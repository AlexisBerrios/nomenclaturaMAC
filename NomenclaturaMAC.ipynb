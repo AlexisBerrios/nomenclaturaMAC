{
  "nbformat": 4,
  "nbformat_minor": 0,
  "metadata": {
    "colab": {
      "provenance": []
    },
    "kernelspec": {
      "name": "python3",
      "display_name": "Python 3"
    },
    "language_info": {
      "name": "python"
    }
  },
  "cells": [
    {
      "cell_type": "code",
      "execution_count": 1,
      "metadata": {
        "colab": {
          "base_uri": "https://localhost:8080/"
        },
        "id": "xpZmjgSJJLMK",
        "outputId": "c8b9934c-e344-47e5-e3be-c6090a722648"
      },
      "outputs": [
        {
          "output_type": "stream",
          "name": "stdout",
          "text": [
            "gd:sg:dg:fd:sg:fd\n",
            "ab:cd:ef:12:34:56\n",
            "a1:b2:c3:d4:e5:f6\n"
          ]
        }
      ],
      "source": [
        "archivo = open(\"MAC.txt\", \"r\") \n",
        "\n",
        "carac=\":\"\n",
        "for dat2 in archivo:\n",
        "  datos = dat2\n",
        "  datos=datos.replace(\"-\",\"\")\n",
        "  #print(datos)\n",
        "  mac=[]\n",
        "  cont=0\n",
        "  #indicamos que se repita segun el tamaño de la cadena y que vaya de 2 en 2\n",
        "  for i in range(0,len(datos),2):\n",
        "    cont=cont+1\n",
        "    #print(\"entro\")\n",
        "    mac.append(datos[i:i+2]+\":\")  \n",
        "    a=\"\".join(mac)\n",
        "    macFinal=a[0:-1]\n",
        "    if cont==6:\n",
        "      print(macFinal)\n",
        "    #Siuuuu"
      ]
    }
  ]
}